{
 "cells": [
  {
   "cell_type": "code",
   "execution_count": 1,
   "metadata": {
    "collapsed": true
   },
   "outputs": [],
   "source": [
    "import numpy as np\n",
    "import matplotlib.pyplot as plt\n",
    "import tensorflow as tf\n",
    "import sklearn\n",
    "import h5py\n",
    "\n",
    "from IPython.display import clear_output\n",
    "from datetime import datetime\n",
    "from time import sleep\n",
    "import tensorboard_utility as tb_utility\n",
    "\n",
    "%matplotlib inline\n",
    "plt.rcParams[\"figure.figsize\"] = (6, 4)\n",
    "\n",
    "log_dir = tb_utility.get_log_dir()"
   ]
  },
  {
   "cell_type": "code",
   "execution_count": 3,
   "metadata": {
    "collapsed": true
   },
   "outputs": [],
   "source": [
    "def show_images():\n",
    "    for i in range(24):\n",
    "        plt.subplot(4,6,i+1)\n",
    "        plt.imshow(train_x[i,:,:], cmap = \"gray\")\n",
    "        plt.axis(\"off\")\n",
    "    plt.show()\n",
    "    return"
   ]
  },
  {
   "cell_type": "code",
   "execution_count": 4,
   "metadata": {
    "collapsed": true
   },
   "outputs": [],
   "source": [
    "def load_sample_dataset():\n",
    "    with  h5py.File(\"train_test_file_list.h5\", \"r\") as hf:\n",
    "        train_x = np.reshape(np.array(hf.get(\"train_x\")), (-1, 28, 28 ,1))\n",
    "        train_y = np.eye(10)[np.reshape(np.array(hf.get(\"train_y\")), -1)]\n",
    "        test_x = np.reshape(np.array(hf.get(\"test_x\")), (-1, 28, 28, 1))\n",
    "        test_y = np.eye(10)[np.reshape(np.array(hf.get(\"test_y\")), -1)]\n",
    "    return train_x, train_y, test_x, test_y"
   ]
  },
  {
   "cell_type": "code",
   "execution_count": 5,
   "metadata": {
    "collapsed": true
   },
   "outputs": [],
   "source": [
    "def leaky_relu(data, alpha=0.1):\n",
    "    return tf.nn.relu(data) - alpha * tf.nn.relu(-data)"
   ]
  },
  {
   "cell_type": "code",
   "execution_count": 6,
   "metadata": {
    "collapsed": true
   },
   "outputs": [],
   "source": [
    "train_x, train_y, test_x, test_y = load_sample_dataset()"
   ]
  },
  {
   "cell_type": "code",
   "execution_count": 7,
   "metadata": {
    "collapsed": true
   },
   "outputs": [],
   "source": [
    "sess = tf.Session()\n",
    "\n",
    "x = tf.placeholder(tf.float32, [None, 28, 28, 1])\n",
    "y = tf.placeholder(tf.float32, [None, 10])\n",
    "alpha = tf.Variable(0.1, trainable = True)\n",
    "\n",
    "feed_dict = {x : train_x, y : train_y}\n",
    "ds = tf.data.Dataset.from_tensor_slices((x, y))\n",
    "ds = ds.map(lambda x, y: (tf.image.per_image_standardization(x), y))\n",
    "batched_ds = ds.batch(256)\n",
    "iterator = batched_ds.make_initializable_iterator()\n",
    "next_x, next_y = iterator.get_next()\n",
    "\n",
    "with tf.variable_scope(\"layer1\", reuse = tf.AUTO_REUSE):\n",
    "    W1 = tf.get_variable(\"W1\", [5,5,1,16], initializer = tf.contrib.layers.xavier_initializer())\n",
    "    b1 = tf.get_variable(\"b1\", [16], initializer = tf.initializers.constant(0.1))\n",
    "    c1 = tf.nn.conv2d(next_x, W1, strides = [1,1,1,1], padding = \"SAME\") + b1\n",
    "    hc1 = leaky_relu(c1, alpha)\n",
    "\n",
    "with tf.variable_scope(\"layer2\", reuse = tf.AUTO_REUSE):\n",
    "    W2 = tf.get_variable(\"W2\", [5,5,16,32], initializer = tf.contrib.layers.xavier_initializer())\n",
    "    b2 = tf.get_variable(\"b2\", [32], initializer = tf.initializers.constant(0.1))\n",
    "    c2 = tf.nn.conv2d(hc1, W2, strides = [1,1,1,1], padding = \"SAME\") + b2\n",
    "    hc2 = leaky_relu(c2, alpha)\n",
    "\n",
    "f3 = tf.layers.Flatten()(hc2)\n",
    "with tf.variable_scope(\"layer3\", reuse = tf.AUTO_REUSE):\n",
    "    W3 = tf.get_variable(\"W3\", [f3.shape[1], 10], initializer = tf.contrib.layers.xavier_initializer())\n",
    "    b3 = tf.get_variable(\"b3\", [10], initializer = tf.initializers.constant(0.1))\n",
    "    logits = f3 @ W3 + b3\n",
    "    prediction = tf.nn.softmax(logits)\n",
    "\n",
    "cross_entropy = tf.reduce_mean(tf.nn.softmax_cross_entropy_with_logits(labels = next_y, logits = logits))\n",
    "tf.summary.scalar(\"cross_entropy\", cross_entropy)\n",
    "tf.summary.scalar(\"Leaky ReLU Parameter alpha\", alpha)\n",
    "\n",
    "global_step = tf.Variable(0, name = \"global_step\", trainable = False)\n",
    "step_size = tf.Variable(0.1)\n",
    "train = tf.train.AdamOptimizer(step_size).minimize(cross_entropy, global_step = global_step)\n",
    "accuracy = tf.reduce_mean(tf.cast(tf.equal(tf.argmax(prediction,1), tf.argmax(next_y,1)), tf.float32))\n",
    "tf.summary.scalar(\"accuracy\", accuracy)\n",
    "\n",
    "merged = tf.summary.merge_all()\n",
    "writer = tf.summary.FileWriter(log_dir, sess.graph)\n",
    "\n",
    "sess.run(tf.global_variables_initializer())"
   ]
  },
  {
   "cell_type": "code",
   "execution_count": 8,
   "metadata": {
    "collapsed": true
   },
   "outputs": [],
   "source": [
    "def iterate(N):\n",
    "    \n",
    "    for i in range(N):\n",
    "        sess.run(iterator.initializer, feed_dict)\n",
    "        while True:\n",
    "            try:\n",
    "                summary, _ = sess.run([merged, train])\n",
    "                writer.add_summary(summary, tf.train.global_step(sess, tf.train.get_global_step()))\n",
    "            except tf.errors.OutOfRangeError:\n",
    "                break\n",
    "        \n",
    "        if (i+1) % max(int(N/10), 1) == 0:\n",
    "            clear_output(wait = True)\n",
    "            print(\"{:3}%\".format(int((i+1)/N*100)))\n",
    "    \n",
    "    return"
   ]
  },
  {
   "cell_type": "code",
   "execution_count": 9,
   "metadata": {},
   "outputs": [
    {
     "name": "stdout",
     "output_type": "stream",
     "text": [
      "100%\n",
      "\n",
      "Elapsed time:  0:00:21.651301\n"
     ]
    }
   ],
   "source": [
    "sess.run(step_size.assign(0.001))\n",
    "start = datetime.now()\n",
    "\n",
    "iterate(10)\n",
    "\n",
    "print(\"\")\n",
    "print(\"Elapsed time: \", datetime.now() - start)"
   ]
  },
  {
   "cell_type": "code",
   "execution_count": 2,
   "metadata": {
    "collapsed": true
   },
   "outputs": [],
   "source": [
    "tb_utility.launch_tb_felix()"
   ]
  },
  {
   "cell_type": "code",
   "execution_count": 10,
   "metadata": {},
   "outputs": [
    {
     "name": "stdout",
     "output_type": "stream",
     "text": [
      "0.933594\n"
     ]
    }
   ],
   "source": [
    "sess.run(iterator.initializer, {x : test_x, y : test_y})\n",
    "print(sess.run(accuracy))"
   ]
  },
  {
   "cell_type": "code",
   "execution_count": null,
   "metadata": {
    "collapsed": true
   },
   "outputs": [],
   "source": []
  }
 ],
 "metadata": {
  "kernelspec": {
   "display_name": "Python3 (Tensorflow)",
   "language": "python",
   "name": "tensorflow"
  },
  "language_info": {
   "codemirror_mode": {
    "name": "ipython",
    "version": 3
   },
   "file_extension": ".py",
   "mimetype": "text/x-python",
   "name": "python",
   "nbconvert_exporter": "python",
   "pygments_lexer": "ipython3",
   "version": "3.6.3"
  }
 },
 "nbformat": 4,
 "nbformat_minor": 2
}
