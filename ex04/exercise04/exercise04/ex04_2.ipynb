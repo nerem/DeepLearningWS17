{
 "cells": [
  {
   "cell_type": "markdown",
   "metadata": {},
   "source": [
    "# Exercise 4.2"
   ]
  },
  {
   "cell_type": "markdown",
   "metadata": {},
   "source": [
    "### Import"
   ]
  },
  {
   "cell_type": "code",
   "execution_count": 1,
   "metadata": {
    "scrolled": true
   },
   "outputs": [],
   "source": [
    "import os\n",
    "import numpy as np\n",
    "import tensorflow as tf\n",
    "import matplotlib.pyplot as plt\n",
    "\n",
    "%matplotlib inline"
   ]
  },
  {
   "cell_type": "markdown",
   "metadata": {},
   "source": [
    "## 4.2 (a)"
   ]
  },
  {
   "cell_type": "markdown",
   "metadata": {},
   "source": [
    "### Load Data"
   ]
  },
  {
   "cell_type": "code",
   "execution_count": 2,
   "metadata": {},
   "outputs": [],
   "source": [
    "def sample(a):\n",
    "    return a[np.random.randint(len(a))]"
   ]
  },
  {
   "cell_type": "code",
   "execution_count": 3,
   "metadata": {},
   "outputs": [],
   "source": [
    "def scale(x):\n",
    "    x -= np.mean(x, axis = (1, 2)).reshape(-1, 1, 1, 1)\n",
    "    x /= np.std(x, axis = (1, 2)).reshape(-1, 1, 1, 1)\n",
    "    return x"
   ]
  },
  {
   "cell_type": "code",
   "execution_count": 4,
   "metadata": {},
   "outputs": [],
   "source": [
    "path = os.getcwd()\n",
    "X_cyr = scale(np.load(path + \"/data/X_cyr.npy\").reshape((1, 28, 28, -1)).swapaxes(0, -1))\n",
    "X_lat = np.load(path + \"/data/X_lat.npy\").reshape((1, 28, 28, -1)).swapaxes(0, -1)\n",
    "labels_cyr = np.load(path + \"/data/labels_cyr.npy\")\n",
    "labels_lat = np.load(path + \"/data/labels_lat.npy\")\n",
    "\n",
    "labels = {i : X_lat[labels_lat == i] for i in range(14)}\n",
    "Y_cyr = np.array([sample(labels[i]) for i in labels_cyr])"
   ]
  },
  {
   "cell_type": "markdown",
   "metadata": {},
   "source": [
    "## 4.2 (b)"
   ]
  },
  {
   "cell_type": "markdown",
   "metadata": {},
   "source": [
    "### Model"
   ]
  },
  {
   "cell_type": "code",
   "execution_count": 5,
   "metadata": {},
   "outputs": [],
   "source": [
    "initializer = tf.keras.initializers.VarianceScaling\n",
    "activation = lambda x: tf.keras.layers.LeakyReLU()(x)\n",
    "\n",
    "inputs = tf.keras.layers.Input([28, 28, 1])\n",
    "x = tf.keras.layers.ZeroPadding2D(padding = 2)(inputs)\n",
    "x = tf.keras.layers.Conv2D(16, 7, strides = 1, padding = \"same\", kernel_initializer = initializer,\n",
    "                           activation = activation)(x)\n",
    "x = tf.keras.layers.Conv2D(32, 5, strides = 2, padding = \"same\", kernel_initializer = initializer,\n",
    "                           activation = activation)(x)\n",
    "x = tf.keras.layers.Conv2D(16, 3, strides = 1, padding = \"same\", kernel_initializer = initializer,\n",
    "                           activation = activation)(x)\n",
    "x = tf.keras.layers.Conv2D(8, 3, strides = 2, padding = \"same\", kernel_initializer = initializer,\n",
    "                           activation = activation)(x)\n",
    "x = tf.keras.layers.Conv2D(8, 3, strides = 1, padding = \"same\", kernel_initializer = initializer,\n",
    "                           activation = activation)(x)\n",
    "x = tf.keras.layers.Conv2D(4, 3, strides = 2, padding = \"same\", kernel_initializer = initializer,\n",
    "                           activation = activation)(x)\n",
    "x = tf.keras.layers.Conv2D(4, 3, strides = 2, padding = \"same\", kernel_initializer = initializer,\n",
    "                           activation = activation)(x)\n",
    "\n",
    "x = tf.keras.layers.Conv2DTranspose(4, 3, strides = 2, padding = \"same\", kernel_initializer = initializer,\n",
    "                                    activation = activation)(x)\n",
    "x = tf.keras.layers.Conv2DTranspose(8, 3, strides = 2, padding = \"same\", kernel_initializer = initializer,\n",
    "                                    activation = activation)(x)\n",
    "x = tf.keras.layers.Conv2D(8, 3, strides = 1, padding = \"same\", kernel_initializer = initializer,\n",
    "                           activation = activation)(x)\n",
    "x = tf.keras.layers.Conv2DTranspose(16, 3, strides = 2, padding = \"same\", kernel_initializer = initializer,\n",
    "                                    activation = activation)(x)\n",
    "x = tf.keras.layers.Conv2D(16, 3, strides = 1, padding = \"same\", kernel_initializer = initializer,\n",
    "                           activation = activation)(x)\n",
    "x = tf.keras.layers.Conv2DTranspose(32, 5, strides = 2, padding = \"same\", kernel_initializer = initializer,\n",
    "                                    activation = activation)(x)\n",
    "x = tf.keras.layers.Conv2D(1, 7, strides = 1, padding = \"same\", kernel_initializer = initializer,\n",
    "                           activation = tf.keras.activations.sigmoid)(x)\n",
    "outputs = tf.keras.layers.Cropping2D(cropping = 2)(x)\n",
    "\n",
    "autoencoder = tf.keras.models.Model(inputs = inputs, outputs = outputs)"
   ]
  },
  {
   "cell_type": "markdown",
   "metadata": {},
   "source": [
    "## 4.2 (c)"
   ]
  },
  {
   "cell_type": "code",
   "execution_count": 6,
   "metadata": {},
   "outputs": [],
   "source": [
    "loss = tf.keras.losses.binary_crossentropy\n",
    "optimizer = tf.keras.optimizers.Adam()\n",
    "autoencoder.compile(optimizer, loss)"
   ]
  },
  {
   "cell_type": "markdown",
   "metadata": {},
   "source": [
    "## 4.2 (d)"
   ]
  },
  {
   "cell_type": "markdown",
   "metadata": {},
   "source": [
    "### Train (Latin Autoencoder)"
   ]
  },
  {
   "cell_type": "code",
   "execution_count": 10,
   "metadata": {},
   "outputs": [
    {
     "name": "stdout",
     "output_type": "stream",
     "text": [
      "Epoch 1/5\n",
      "5798/5798 [==============================] - 89s - loss: 0.6207    \n",
      "Epoch 2/5\n",
      "5798/5798 [==============================] - 98s - loss: 0.6171    \n",
      "Epoch 3/5\n",
      "5798/5798 [==============================] - 86s - loss: 0.6128    \n",
      "Epoch 4/5\n",
      "5798/5798 [==============================] - 83s - loss: 0.6060    \n",
      "Epoch 5/5\n",
      "5798/5798 [==============================] - 81s - loss: 0.5990    \n"
     ]
    },
    {
     "data": {
      "text/plain": [
       "<tensorflow.python.keras._impl.keras.callbacks.History at 0x1dedfe7c550>"
      ]
     },
     "execution_count": 10,
     "metadata": {},
     "output_type": "execute_result"
    }
   ],
   "source": [
    "autoencoder.fit(X_cyr, Y_cyr, batch_size = 250, epochs = 20, verbose = 1)"
   ]
  },
  {
   "cell_type": "markdown",
   "metadata": {},
   "source": [
    "### Visualize Results"
   ]
  },
  {
   "cell_type": "code",
   "execution_count": 11,
   "metadata": {},
   "outputs": [],
   "source": [
    "def show(i):\n",
    "    plt.subplot(1,3,1)\n",
    "    plt.imshow(X_cyr[i,:,:,0], cmap = \"gray\")\n",
    "    plt.subplot(1,3,2)\n",
    "    plt.imshow(autoencoder.predict(X_cyr[[i]])[0,:,:,0], cmap = \"gray\")\n",
    "    plt.subplot(1,3,3)\n",
    "    plt.imshow(Y_cyr[i,:,:,0], cmap = \"gray\")\n",
    "    plt.show()"
   ]
  },
  {
   "cell_type": "code",
   "execution_count": 12,
   "metadata": {
    "scrolled": false
   },
   "outputs": [
    {
     "data": {
      "image/png": "[encoded data removed]",
      "text/plain": [
       "<matplotlib.figure.Figure at 0x1dedfe99e80>"
      ]
     },
     "metadata": {},
     "output_type": "display_data"
    },
    {
     "data": {
      "image/png": "[encoded data removed]",
      "text/plain": [
       "<matplotlib.figure.Figure at 0x1de820bae48>"
      ]
     },
     "metadata": {},
     "output_type": "display_data"
    },
    {
     "data": {
      "image/png": "[encoded data removed]",
      "text/plain": [
       "<matplotlib.figure.Figure at 0x1dedfe05f28>"
      ]
     },
     "metadata": {},
     "output_type": "display_data"
    },
    {
     "data": {
      "image/png": "[encoded data removed]",
      "text/plain": [
       "<matplotlib.figure.Figure at 0x1de82197ac8>"
      ]
     },
     "metadata": {},
     "output_type": "display_data"
    },
    {
     "data": {
      "image/png": "[encoded data removed]",
      "text/plain": [
       "<matplotlib.figure.Figure at 0x1deded4b6d8>"
      ]
     },
     "metadata": {},
     "output_type": "display_data"
    },
    {
     "data": {
      "image/png": "[encoded data removed]",
      "text/plain": [
       "<matplotlib.figure.Figure at 0x1de821cb5f8>"
      ]
     },
     "metadata": {},
     "output_type": "display_data"
    }
   ],
   "source": [
    "show(0)\n",
    "show(1200)\n",
    "show(2000)\n",
    "show(3000)\n",
    "show(4000)\n",
    "show(5000)"
   ]
  },
  {
   "cell_type": "markdown",
   "metadata": {},
   "source": [
    "## 4.2 (e)"
   ]
  },
  {
   "cell_type": "code",
   "execution_count": 13,
   "metadata": {},
   "outputs": [],
   "source": [
    "def set_decoder_untrainable():\n",
    "    for i in range(9, 17):\n",
    "        autoencoder.get_layer(index = i).trainable = False\n",
    "    return None\n",
    "\n",
    "def decode(x):\n",
    "    for i in range(9, 17):\n",
    "        x = autoencoder.get_layer(index = i)(x)\n",
    "    return x"
   ]
  },
  {
   "cell_type": "markdown",
   "metadata": {},
   "source": [
    "### Model"
   ]
  },
  {
   "cell_type": "code",
   "execution_count": 14,
   "metadata": {},
   "outputs": [],
   "source": [
    "set_decoder_untrainable()\n",
    "inputs = tf.keras.layers.Input([1])\n",
    "x = tf.keras.layers.Dense(16, use_bias = False)(inputs)\n",
    "x = tf.keras.layers.Reshape((2,2,4))(x)\n",
    "outputs = decode(x)\n",
    "\n",
    "decoder = tf.keras.models.Model(inputs = inputs, outputs = outputs)"
   ]
  },
  {
   "cell_type": "code",
   "execution_count": 15,
   "metadata": {},
   "outputs": [],
   "source": [
    "loss = tf.keras.losses.mean_squared_error\n",
    "optimizer = tf.keras.optimizers.Adam()\n",
    "decoder.compile(optimizer, loss)"
   ]
  },
  {
   "cell_type": "markdown",
   "metadata": {},
   "source": [
    "#### Train (Optimal input in latent space for given output) "
   ]
  },
  {
   "cell_type": "code",
   "execution_count": 17,
   "metadata": {
    "scrolled": false
   },
   "outputs": [
    {
     "name": "stdout",
     "output_type": "stream",
     "text": [
      "Epoch 1/2\n",
      "1000/1000 [==============================] - 7s - loss: 0.1825     \n",
      "Epoch 2/2\n",
      "1000/1000 [==============================] - 7s - loss: 0.1824     \n"
     ]
    },
    {
     "data": {
      "text/plain": [
       "<tensorflow.python.keras._impl.keras.callbacks.History at 0x1de8220efd0>"
      ]
     },
     "execution_count": 17,
     "metadata": {},
     "output_type": "execute_result"
    }
   ],
   "source": [
    "decoder.fit(np.ones(1000), np.array([sample(labels[0]) for _ in range(1000)]), epochs = 20, verbose = 1)"
   ]
  },
  {
   "cell_type": "code",
   "execution_count": 21,
   "metadata": {},
   "outputs": [
    {
     "data": {
      "text/plain": [
       "<matplotlib.image.AxesImage at 0x1deded26828>"
      ]
     },
     "execution_count": 21,
     "metadata": {},
     "output_type": "execute_result"
    },
    {
     "data": {
      "image/png": "[encoded data removed]",
      "text/plain": [
       "<matplotlib.figure.Figure at 0x1deded74710>"
      ]
     },
     "metadata": {},
     "output_type": "display_data"
    }
   ],
   "source": [
    "plt.subplot(1,2,1)\n",
    "plt.imshow(decoder.predict(np.array([1]))[0,:,:,0], cmap = \"gray\")\n",
    "plt.subplot(1,2,2)\n",
    "plt.imshow(decoder.get_layer(index=1).get_weights()[0].reshape(2,8), cmap=\"gray\")"
   ]
  },
  {
   "cell_type": "code",
   "execution_count": null,
   "metadata": {
    "collapsed": true
   },
   "outputs": [],
   "source": []
  }
 ],
 "metadata": {
  "kernelspec": {
   "display_name": "Python 3",
   "language": "python",
   "name": "python3"
  },
  "language_info": {
   "codemirror_mode": {
    "name": "ipython",
    "version": 3
   },
   "file_extension": ".py",
   "mimetype": "text/x-python",
   "name": "python",
   "nbconvert_exporter": "python",
   "pygments_lexer": "ipython3",
   "version": "3.5.4"
  }
 },
 "nbformat": 4,
 "nbformat_minor": 2
}
