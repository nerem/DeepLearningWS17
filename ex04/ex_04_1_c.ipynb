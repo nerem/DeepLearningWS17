{
 "cells": [
  {
   "cell_type": "markdown",
   "metadata": {},
   "source": [
    "In this file, we show that for tf.nn.conv2d_transpose an output_shape must be specified, since it is not necessarily unique. Moreover, we check out which choice tf.layers.conv2d_transpose uses, as this function does not have an argument output_layer."
   ]
  },
  {
   "cell_type": "code",
   "execution_count": 6,
   "metadata": {},
   "outputs": [],
   "source": [
    "import tensorflow as tf\n",
    "import numpy as np\n",
    "\n",
    "sess = tf.Session()\n",
    "\n",
    "x = tf.placeholder(tf.float32, shape=[1,2,2,1])\n",
    "W = tf.Variable(np.ones((3,3,1,1), dtype=np.float32))\n",
    "# output shape 4x4 \n",
    "conv = tf.nn.conv2d_transpose(x, W, output_shape=(1,4,4,1), strides=(1,2,2,1), padding='SAME')\n",
    "# output shape 3x3\n",
    "conv2 = tf.nn.conv2d_transpose(x, W, output_shape=(1,3,3,1), strides=(1,2,2,1), padding='SAME')\n",
    "# tf.nn.layers.conv2d_transpose produces...?\n",
    "conv3 = tf.layers.conv2d_transpose(inputs=x, filters=1, kernel_size=(3,3), strides=(2,2), padding='SAME')\n",
    "\n",
    "sess.run(tf.global_variables_initializer())"
   ]
  },
  {
   "cell_type": "code",
   "execution_count": 19,
   "metadata": {},
   "outputs": [
    {
     "name": "stdout",
     "output_type": "stream",
     "text": [
      "output shape conv [tf.nn.conv2d_transpose]: [1 4 4 1]\n",
      "\n",
      "\n",
      "output shape conv2 [tf.nn.conv2d_transpose]: [1 3 3 1]\n",
      "\n",
      "\n",
      "output shape conv3 [tf.layers.conv2d_transpose]: [1 4 4 1]\n"
     ]
    }
   ],
   "source": [
    "print(\"output shape conv [tf.nn.conv2d_transpose]: %s\" %sess.run(tf.shape(conv), feed_dict={x :  np.ones((1,2,2,1), dtype=np.float32)}))\n",
    "print(\"\\n\")\n",
    "print(\"output shape conv2 [tf.nn.conv2d_transpose]: %s\" %sess.run(tf.shape(conv2), feed_dict={x :  np.ones((1,2,2,1), dtype=np.float32)}))\n",
    "print(\"\\n\")\n",
    "print(\"output shape conv3 [tf.layers.conv2d_transpose]: %s\" %sess.run(tf.shape(conv3), feed_dict={x :  np.ones((1,2,2,1), dtype=np.float32)}))"
   ]
  }
 ],
 "metadata": {
  "kernelspec": {
   "display_name": "Python 3",
   "language": "python",
   "name": "python3"
  },
  "language_info": {
   "codemirror_mode": {
    "name": "ipython",
    "version": 3
   },
   "file_extension": ".py",
   "mimetype": "text/x-python",
   "name": "python",
   "nbconvert_exporter": "python",
   "pygments_lexer": "ipython3",
   "version": "3.5.4"
  }
 },
 "nbformat": 4,
 "nbformat_minor": 1
}
