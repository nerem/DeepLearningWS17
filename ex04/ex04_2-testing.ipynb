{
 "cells": [
  {
   "cell_type": "markdown",
   "metadata": {},
   "source": [
    "# Exercise 4.2"
   ]
  },
  {
   "cell_type": "markdown",
   "metadata": {},
   "source": [
    "### Import"
   ]
  },
  {
   "cell_type": "code",
   "execution_count": 21,
   "metadata": {},
   "outputs": [],
   "source": [
    "import os\n",
    "import numpy as np\n",
    "import tensorflow as tf\n",
    "import matplotlib.pyplot as plt\n",
    "\n",
    "%matplotlib inline"
   ]
  },
  {
   "cell_type": "code",
   "execution_count": 2,
   "metadata": {
    "collapsed": true
   },
   "outputs": [],
   "source": [
    "def scale(x):\n",
    "    x /= 255\n",
    "    x -= np.mean(x, axis = (1, 2)).reshape(-1, 1, 1, 1)\n",
    "    x /= np.maximum(np.std(x, axis = (1, 2)).reshape(-1, 1, 1, 1), np.sqrt(x.shape[1] * x.shape[2] - 1))\n",
    "    return x"
   ]
  },
  {
   "cell_type": "code",
   "execution_count": 3,
   "metadata": {
    "collapsed": true
   },
   "outputs": [],
   "source": [
    "scale = lambda x: x"
   ]
  },
  {
   "cell_type": "markdown",
   "metadata": {},
   "source": [
    "### Load Data"
   ]
  },
  {
   "cell_type": "code",
   "execution_count": 4,
   "metadata": {
    "collapsed": true
   },
   "outputs": [],
   "source": [
    "path = os.getcwd()\n",
    "X_cyr = scale(np.load(path + \"/data/X_cyr.npy\").reshape((1, 28, 28, -1)).swapaxes(0, -1))\n",
    "X_lat = np.load(path + \"/data/X_lat.npy\").reshape((1, 28, 28, -1)).swapaxes(0, -1)\n",
    "labels_cyr = np.load(path + \"/data/labels_cyr.npy\")\n",
    "labels_lat = np.load(path + \"/data/labels_lat.npy\")\n",
    "\n",
    "labels = {i : np.mean(X_lat[labels_lat == i], axis = 0) for i in range(14)}\n",
    "Y_cyr = np.array([labels[i] for i in labels_cyr])"
   ]
  },
  {
   "cell_type": "markdown",
   "metadata": {},
   "source": [
    "### Model"
   ]
  },
  {
   "cell_type": "code",
   "execution_count": 5,
   "metadata": {
    "collapsed": true
   },
   "outputs": [],
   "source": [
    "initializer = tf.keras.initializers.VarianceScaling\n",
    "activation = lambda x: tf.keras.layers.LeakyReLU()(x)\n",
    "\n",
    "inputs = tf.keras.layers.Input([28, 28, 1])\n",
    "x = tf.keras.layers.ZeroPadding2D(padding = 2)(inputs)\n",
    "x = tf.keras.layers.Conv2D(16, 7, strides = 1, padding = \"same\", kernel_initializer = initializer,\n",
    "                           activation = activation)(x)\n",
    "x = tf.keras.layers.Conv2D(32, 5, strides = 2, padding = \"same\", kernel_initializer = initializer,\n",
    "                           activation = activation)(x)\n",
    "x = tf.keras.layers.Conv2D(16, 3, strides = 1, padding = \"same\", kernel_initializer = initializer,\n",
    "                           activation = activation)(x)\n",
    "x = tf.keras.layers.Conv2D(8, 3, strides = 2, padding = \"same\", kernel_initializer = initializer,\n",
    "                           activation = activation)(x)\n",
    "x = tf.keras.layers.Conv2D(8, 3, strides = 1, padding = \"same\", kernel_initializer = initializer,\n",
    "                           activation = activation)(x)\n",
    "x = tf.keras.layers.Conv2D(4, 3, strides = 2, padding = \"same\", kernel_initializer = initializer,\n",
    "                           activation = activation)(x)\n",
    "\n",
    "x = tf.keras.layers.Conv2DTranspose(8, 3, strides = 2, padding = \"same\", kernel_initializer = initializer,\n",
    "                                    activation = activation)(x)\n",
    "x = tf.keras.layers.Conv2D(8, 3, strides = 1, padding = \"same\", kernel_initializer = initializer,\n",
    "                           activation = activation)(x)\n",
    "x = tf.keras.layers.Conv2DTranspose(16, 3, strides = 2, padding = \"same\", kernel_initializer = initializer,\n",
    "                                    activation = activation)(x)\n",
    "x = tf.keras.layers.Conv2D(16, 3, strides = 1, padding = \"same\", kernel_initializer = initializer,\n",
    "                           activation = activation)(x)\n",
    "x = tf.keras.layers.Conv2DTranspose(32, 5, strides = 2, padding = \"same\", kernel_initializer = initializer,\n",
    "                                    activation = activation)(x)\n",
    "x = tf.keras.layers.Conv2D(1, 7, strides = 1, padding = \"same\", kernel_initializer = initializer,\n",
    "                           activation = tf.keras.activations.sigmoid)(x)\n",
    "outputs = tf.keras.layers.Cropping2D(cropping = 2)(x)\n",
    "\n",
    "model = tf.keras.models.Model(inputs = inputs, outputs = outputs)"
   ]
  },
  {
   "cell_type": "code",
   "execution_count": 6,
   "metadata": {
    "collapsed": true
   },
   "outputs": [],
   "source": [
    "loss = tf.keras.losses.binary_crossentropy\n",
    "optimizer = tf.keras.optimizers.Adam()\n",
    "model.compile(optimizer, loss)"
   ]
  },
  {
   "cell_type": "code",
   "execution_count": 7,
   "metadata": {},
   "outputs": [
    {
     "name": "stdout",
     "output_type": "stream",
     "text": [
      "Train on 5218 samples, validate on 580 samples\n",
      "Epoch 1/40\n",
      "5218/5218 [==============================] - 4s - loss: 0.6544 - val_loss: 0.6047\n",
      "Epoch 2/40\n",
      "5218/5218 [==============================] - 0s - loss: 0.6242 - val_loss: 0.5949\n",
      "Epoch 3/40\n",
      "5218/5218 [==============================] - 0s - loss: 0.6220 - val_loss: 0.5902\n",
      "Epoch 4/40\n",
      "5218/5218 [==============================] - 0s - loss: 0.6193 - val_loss: 0.5927\n",
      "Epoch 5/40\n",
      "5218/5218 [==============================] - 0s - loss: 0.6140 - val_loss: 0.5910\n",
      "Epoch 6/40\n",
      "5218/5218 [==============================] - 0s - loss: 0.6048 - val_loss: 0.5919\n",
      "Epoch 7/40\n",
      "5218/5218 [==============================] - 0s - loss: 0.5987 - val_loss: 0.5938\n",
      "Epoch 8/40\n",
      "5218/5218 [==============================] - 0s - loss: 0.5944 - val_loss: 0.5977\n",
      "Epoch 9/40\n",
      "5218/5218 [==============================] - 0s - loss: 0.5902 - val_loss: 0.5991\n",
      "Epoch 10/40\n",
      "5218/5218 [==============================] - 0s - loss: 0.5865 - val_loss: 0.6022\n",
      "Epoch 11/40\n",
      "5218/5218 [==============================] - 0s - loss: 0.5839 - val_loss: 0.6090\n",
      "Epoch 12/40\n",
      "5218/5218 [==============================] - 0s - loss: 0.5815 - val_loss: 0.6119\n",
      "Epoch 13/40\n",
      "5218/5218 [==============================] - 0s - loss: 0.5795 - val_loss: 0.6092\n",
      "Epoch 14/40\n",
      "5218/5218 [==============================] - 0s - loss: 0.5775 - val_loss: 0.6131\n",
      "Epoch 15/40\n",
      "5218/5218 [==============================] - 0s - loss: 0.5751 - val_loss: 0.6144\n",
      "Epoch 16/40\n",
      "5218/5218 [==============================] - 0s - loss: 0.5738 - val_loss: 0.6217\n",
      "Epoch 17/40\n",
      "5218/5218 [==============================] - 0s - loss: 0.5719 - val_loss: 0.6197\n",
      "Epoch 18/40\n",
      "5218/5218 [==============================] - 0s - loss: 0.5713 - val_loss: 0.6074\n",
      "Epoch 19/40\n",
      "5218/5218 [==============================] - 0s - loss: 0.5702 - val_loss: 0.6155\n",
      "Epoch 20/40\n",
      "5218/5218 [==============================] - 0s - loss: 0.5696 - val_loss: 0.6214\n",
      "Epoch 21/40\n",
      "5218/5218 [==============================] - 0s - loss: 0.5672 - val_loss: 0.6190\n",
      "Epoch 22/40\n",
      "5218/5218 [==============================] - 0s - loss: 0.5677 - val_loss: 0.6232\n",
      "Epoch 23/40\n",
      "5218/5218 [==============================] - 0s - loss: 0.5675 - val_loss: 0.6200\n",
      "Epoch 24/40\n",
      "5218/5218 [==============================] - 0s - loss: 0.5657 - val_loss: 0.6171\n",
      "Epoch 25/40\n",
      "5218/5218 [==============================] - 0s - loss: 0.5637 - val_loss: 0.6248\n",
      "Epoch 26/40\n",
      "5218/5218 [==============================] - 0s - loss: 0.5659 - val_loss: 0.6278\n",
      "Epoch 27/40\n",
      "5218/5218 [==============================] - 0s - loss: 0.5628 - val_loss: 0.6344\n",
      "Epoch 28/40\n",
      "5218/5218 [==============================] - 0s - loss: 0.5617 - val_loss: 0.6243\n",
      "Epoch 29/40\n",
      "5218/5218 [==============================] - 0s - loss: 0.5612 - val_loss: 0.6357\n",
      "Epoch 30/40\n",
      "5218/5218 [==============================] - 0s - loss: 0.5604 - val_loss: 0.6369\n",
      "Epoch 31/40\n",
      "5218/5218 [==============================] - 0s - loss: 0.5611 - val_loss: 0.6235\n",
      "Epoch 32/40\n",
      "5218/5218 [==============================] - 0s - loss: 0.5583 - val_loss: 0.6324\n",
      "Epoch 33/40\n",
      "5218/5218 [==============================] - 0s - loss: 0.5582 - val_loss: 0.6352\n",
      "Epoch 34/40\n",
      "5218/5218 [==============================] - 0s - loss: 0.5577 - val_loss: 0.6275\n",
      "Epoch 35/40\n",
      "5218/5218 [==============================] - 0s - loss: 0.5568 - val_loss: 0.6479\n",
      "Epoch 36/40\n",
      "5218/5218 [==============================] - 0s - loss: 0.5570 - val_loss: 0.6321\n",
      "Epoch 37/40\n",
      "5218/5218 [==============================] - 0s - loss: 0.5550 - val_loss: 0.6418\n",
      "Epoch 38/40\n",
      "5218/5218 [==============================] - 0s - loss: 0.5558 - val_loss: 0.6363\n",
      "Epoch 39/40\n",
      "5218/5218 [==============================] - 0s - loss: 0.5553 - val_loss: 0.6335\n",
      "Epoch 40/40\n",
      "5218/5218 [==============================] - 0s - loss: 0.5542 - val_loss: 0.6308\n"
     ]
    },
    {
     "data": {
      "text/plain": [
       "<tensorflow.python.keras._impl.keras.callbacks.History at 0x1edad9946d8>"
      ]
     },
     "execution_count": 7,
     "metadata": {},
     "output_type": "execute_result"
    }
   ],
   "source": [
    "model.fit(X_cyr, Y_cyr, batch_size = 250, epochs = 40, validation_split = 0.1)"
   ]
  },
  {
   "cell_type": "code",
   "execution_count": 8,
   "metadata": {
    "collapsed": true
   },
   "outputs": [],
   "source": [
    "def show(i):\n",
    "    plt.subplot(1,3,1)\n",
    "    plt.imshow(X_cyr[i,:,:,0], cmap = \"gray\")\n",
    "    plt.subplot(1,3,2)\n",
    "    plt.imshow(model.predict(X_cyr[[i]])[0,:,:,0], cmap = \"gray\")\n",
    "    plt.subplot(1,3,3)\n",
    "    plt.imshow(labels[labels_cyr[i]][:,:,0], cmap = \"gray\")"
   ]
  },
  {
   "cell_type": "code",
   "execution_count": 9,
   "metadata": {},
   "outputs": [
    {
     "data": {
      "image/png": "[encoded data removed]",
      "text/plain": [
       "<matplotlib.figure.Figure at 0x1ef439a4eb8>"
      ]
     },
     "metadata": {},
     "output_type": "display_data"
    }
   ],
   "source": [
    "show(4000)"
   ]
  },
  {
   "cell_type": "code",
   "execution_count": 61,
   "metadata": {},
   "outputs": [],
   "source": [
    "decoder_layers = model.layers[8:15]\n",
    "def f(x):\n",
    "    for i in range(7):\n",
    "        test = decoder_layers[i](x)\n",
    "        return x\n",
    "ins = tf.keras.layers.Input([4,4,4])\n",
    "out = f(ins)\n",
    "model_decoder = tf.keras.models.Model(inputs = ins, outputs = out)\n",
    "\n"
   ]
  },
  {
   "cell_type": "code",
   "execution_count": 62,
   "metadata": {
    "collapsed": true
   },
   "outputs": [],
   "source": [
    "def decode(x):\n",
    "    return model.predict(x)"
   ]
  },
  {
   "cell_type": "code",
   "execution_count": 64,
   "metadata": {},
   "outputs": [
    {
     "ename": "TypeError",
     "evalue": "data type not understood",
     "output_type": "error",
     "traceback": [
      "\u001b[1;31m---------------------------------------------------------------------------\u001b[0m",
      "\u001b[1;31mTypeError\u001b[0m                                 Traceback (most recent call last)",
      "\u001b[1;32m<ipython-input-64-3b54a26ec030>\u001b[0m in \u001b[0;36m<module>\u001b[1;34m()\u001b[0m\n\u001b[1;32m----> 1\u001b[1;33m \u001b[0mdecode\u001b[0m\u001b[1;33m(\u001b[0m\u001b[0mnp\u001b[0m\u001b[1;33m.\u001b[0m\u001b[0marray\u001b[0m\u001b[1;33m(\u001b[0m\u001b[1;36m4\u001b[0m\u001b[1;33m,\u001b[0m\u001b[1;36m4\u001b[0m\u001b[1;33m)\u001b[0m\u001b[1;33m)\u001b[0m\u001b[1;33m\u001b[0m\u001b[0m\n\u001b[0m",
      "\u001b[1;31mTypeError\u001b[0m: data type not understood"
     ]
    }
   ],
   "source": []
  }
 ],
 "metadata": {
  "kernelspec": {
   "display_name": "Python3 (Tensorflow)",
   "language": "python",
   "name": "tensorflow"
  },
  "language_info": {
   "codemirror_mode": {
    "name": "ipython",
    "version": 3
   },
   "file_extension": ".py",
   "mimetype": "text/x-python",
   "name": "python",
   "nbconvert_exporter": "python",
   "pygments_lexer": "ipython3",
   "version": "3.6.3"
  }
 },
 "nbformat": 4,
 "nbformat_minor": 2
}
