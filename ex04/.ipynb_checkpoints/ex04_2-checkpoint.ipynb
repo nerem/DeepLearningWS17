{
 "cells": [
  {
   "cell_type": "code",
   "execution_count": 1,
   "metadata": {},
   "outputs": [],
   "source": [
    "import numpy as np\n",
    "import matplotlib.pyplot as plt\n",
    "import tensorflow as tf\n",
    "import sklearn\n",
    "import h5py\n",
    "\n",
    "from IPython.display import clear_output\n",
    "from datetime import datetime\n",
    "from time import sleep\n",
    "import tensorboard_utility as tb_utility\n",
    "\n",
    "%matplotlib inline\n",
    "plt.rcParams[\"figure.figsize\"] = (6, 4)\n",
    "\n",
    "log_dir = tb_utility.get_log_dir()"
   ]
  },
  {
   "cell_type": "code",
   "execution_count": 45,
   "metadata": {},
   "outputs": [],
   "source": [
    "# takes an array of greyscale images and a list of indices and displays the corresponding images\n",
    "def show_images(img_data, indices):\n",
    "    for i in range(len(indices)):\n",
    "        plt.subplot(1,len(indices),i+1)\n",
    "        plt.imshow(img_data[:,:,indices[i]], cmap = \"gray\")\n",
    "        plt.axis(\"off\")\n",
    "    plt.show()\n",
    "    return"
   ]
  },
  {
   "cell_type": "code",
   "execution_count": 50,
   "metadata": {},
   "outputs": [],
   "source": [
    "# load data\n",
    "def load_sample_dataset():\n",
    "    \n",
    "    data_cyr = np.load('data/X_cyr.npy')\n",
    "    data_lat = np.load('data/X_lat.npy')\n",
    "    labels_cyr = np.load('data/labels_cyr.npy')\n",
    "    labels_lat = np.load('data/labels_lat.npy')\n",
    "    \n",
    "    return data_cyr, data_lat, labels_cyr, labels_lat"
   ]
  },
  {
   "cell_type": "code",
   "execution_count": 82,
   "metadata": {
    "scrolled": true
   },
   "outputs": [
    {
     "name": "stdout",
     "output_type": "stream",
     "text": [
      "Shape data_cyr = (28, 28, 5798)\n",
      "Shape data_lat = (28, 28, 6015)\n",
      "Shape labels_cyr = (5798,)\n",
      "Shape labels_lat = (6015,)\n"
     ]
    },
    {
     "data": {
      "image/png": "[encoded data removed]",
      "text/plain": [
       "<matplotlib.figure.Figure at 0x1e3ebcf5828>"
      ]
     },
     "metadata": {},
     "output_type": "display_data"
    },
    {
     "data": {
      "image/png": "[encoded data removed]",
      "text/plain": [
       "<matplotlib.figure.Figure at 0x1e3eab4cac8>"
      ]
     },
     "metadata": {},
     "output_type": "display_data"
    },
    {
     "name": "stdout",
     "output_type": "stream",
     "text": [
      "labels_lat: [0 1 2 3 9]\n",
      "labels_cyr: [0 1 2 3 9]\n"
     ]
    }
   ],
   "source": [
    "# load data, print out shapes and visualize some of the data for getting a feeling for the data\n",
    "data_cyr, data_lat, labels_cyr, labels_lat = load_sample_dataset()\n",
    "\n",
    "print(\"Shape data_cyr =\", data_cyr.shape)\n",
    "print(\"Shape data_lat =\", data_lat.shape)\n",
    "print(\"Shape labels_cyr =\", labels_cyr.shape)\n",
    "print(\"Shape labels_lat =\", labels_lat.shape)\n",
    "indices = [1,500,1000,1500,4001]\n",
    "show_images(data_lat, indices)\n",
    "show_images(data_cyr, indices)\n",
    "print(\"labels_lat:\", labels_lat[indices])\n",
    "print(\"labels_cyr:\", labels_cyr[indices])\n"
   ]
  },
  {
   "cell_type": "markdown",
   "metadata": {},
   "source": [
    "Training strategy:\n",
    "\n",
    "??"
   ]
  },
  {
   "cell_type": "code",
   "execution_count": 6,
   "metadata": {
    "collapsed": true
   },
   "outputs": [],
   "source": [
    "# set up a decoder-encoder network\n",
    "sess = tf.Session()\n",
    "\n",
    "x = tf.placeholder(tf.float32, [None, 28, 28, 1])\n",
    "y = tf.placeholder(tf.float32, [None, 10])\n",
    "is_training = tf.placeholder(tf.bool)\n",
    "alpha = tf.Variable(0.01, trainable = False)\n",
    "\n",
    "feed_dict = {x : train_x, y : train_y, is_training : True}\n",
    "ds = tf.data.Dataset.from_tensor_slices((x, y))\n",
    "ds = ds.map(lambda x, y: (tf.image.per_image_standardization(x), y))\n",
    "batched_ds = ds.batch(256)\n",
    "iterator = batched_ds.make_initializable_iterator()\n",
    "next_x, next_y = iterator.get_next()\n",
    "\n",
    "# encoder-decoder network\n",
    "with tf.variable_scope(\"layer1\", reuse = tf.AUTO_REUSE):\n",
    "    W1 = tf.get_variable(\"W1\", [5,5,1,16], initializer = tf.contrib.layers.xavier_initializer())\n",
    "    b1 = tf.get_variable(\"b1\", [16], initializer = tf.initializers.constant(0.1))\n",
    "    c1 = tf.nn.conv2d(next_x, W1, strides = [1,1,1,1], padding = \"SAME\") + b1\n",
    "    c1 = tf.contrib.layers.batch_norm(c1, center=True, scale=True, is_training=is_training)\n",
    "    hc1 = leaky_relu(c1, alpha)\n",
    "\n",
    "with tf.variable_scope(\"layer2\", reuse = tf.AUTO_REUSE):\n",
    "    W2 = tf.get_variable(\"W2\", [5,5,16,32], initializer = tf.contrib.layers.xavier_initializer())\n",
    "    b2 = tf.get_variable(\"b2\", [32], initializer = tf.initializers.constant(0.1))\n",
    "    c2 = tf.nn.conv2d(hc1, W2, strides = [1,1,1,1], padding = \"SAME\") + b2\n",
    "    c2 = tf.contrib.layers.batch_norm(c2, center=True, scale=True, is_training=is_training)\n",
    "    hc2 = leaky_relu(c2, alpha)\n",
    "\n",
    "f3 = tf.layers.Flatten()(hc2)\n",
    "with tf.variable_scope(\"layer3\", reuse = tf.AUTO_REUSE):\n",
    "    W3 = tf.get_variable(\"W3\", [f3.shape[1], 10], initializer = tf.contrib.layers.xavier_initializer())\n",
    "    b3 = tf.get_variable(\"b3\", [10], initializer = tf.initializers.constant(0.1))\n",
    "    logits = f3 @ W3 + b3\n",
    "    prediction = tf.nn.softmax(logits)\n",
    "\n",
    "cross_entropy = tf.reduce_mean(tf.nn.softmax_cross_entropy_with_logits(labels = next_y, logits = logits))\n",
    "tf.summary.scalar(\"cross_entropy\", cross_entropy)\n",
    "tf.summary.scalar(\"alpha\", alpha)\n",
    "\n",
    "global_step = tf.Variable(0, name = \"global_step\", trainable = False)\n",
    "step_size = tf.Variable(0.1)\n",
    "with tf.control_dependencies(tf.get_collection(tf.GraphKeys.UPDATE_OPS)):\n",
    "    train = tf.train.AdamOptimizer(step_size).minimize(cross_entropy, global_step = global_step)\n",
    "    \n",
    "accuracy = tf.reduce_mean(tf.cast(tf.equal(tf.argmax(prediction,1), tf.argmax(next_y,1)), tf.float32))\n",
    "tf.summary.scalar(\"accuracy\", accuracy)\n",
    "\n",
    "merged = tf.summary.merge_all()\n",
    "writer = tf.summary.FileWriter(log_dir, sess.graph)\n",
    "\n",
    "sess.run(tf.global_variables_initializer())"
   ]
  },
  {
   "cell_type": "code",
   "execution_count": 7,
   "metadata": {
    "collapsed": true
   },
   "outputs": [],
   "source": [
    "def iterate(N):\n",
    "    \n",
    "    for i in range(N):\n",
    "        sess.run(iterator.initializer, feed_dict)\n",
    "        while True:\n",
    "            try:\n",
    "                summary, _ = sess.run([merged, train], feed_dict={is_training : True})\n",
    "                writer.add_summary(summary, tf.train.global_step(sess, tf.train.get_global_step()))\n",
    "            except tf.errors.OutOfRangeError:\n",
    "                break\n",
    "        \n",
    "        if (i+1) % max(int(N/10), 1) == 0:\n",
    "            clear_output(wait = True)\n",
    "            print(\"{:3}%\".format(int((i+1)/N*100)))\n",
    "    \n",
    "    return"
   ]
  },
  {
   "cell_type": "code",
   "execution_count": 8,
   "metadata": {},
   "outputs": [
    {
     "name": "stdout",
     "output_type": "stream",
     "text": [
      "100%\n",
      "\n",
      "Elapsed time:  0:00:25.010182\n"
     ]
    }
   ],
   "source": [
    "sess.run(step_size.assign(0.001))\n",
    "start = datetime.now()\n",
    "\n",
    "iterate(10)\n",
    "\n",
    "print(\"\")\n",
    "print(\"Elapsed time: \", datetime.now() - start)"
   ]
  },
  {
   "cell_type": "markdown",
   "metadata": {},
   "source": [
    "Training with BN took about 2-3 seconds longer than without BN. However, at least the performance (accuracy) was slightly better."
   ]
  },
  {
   "cell_type": "code",
   "execution_count": 9,
   "metadata": {
    "collapsed": true
   },
   "outputs": [],
   "source": [
    "tb_utility.launch_tb_felix()"
   ]
  },
  {
   "cell_type": "code",
   "execution_count": 10,
   "metadata": {},
   "outputs": [
    {
     "name": "stdout",
     "output_type": "stream",
     "text": [
      "0.84375\n"
     ]
    }
   ],
   "source": [
    "sess.run(iterator.initializer, {x : test_x, y : test_y, is_training : False})\n",
    "print(sess.run(accuracy, feed_dict={is_training : False}))"
   ]
  },
  {
   "cell_type": "code",
   "execution_count": null,
   "metadata": {
    "collapsed": true
   },
   "outputs": [],
   "source": []
  }
 ],
 "metadata": {
  "kernelspec": {
   "display_name": "Python 3",
   "language": "python",
   "name": "python3"
  },
  "language_info": {
   "codemirror_mode": {
    "name": "ipython",
    "version": 3
   },
   "file_extension": ".py",
   "mimetype": "text/x-python",
   "name": "python",
   "nbconvert_exporter": "python",
   "pygments_lexer": "ipython3",
   "version": "3.5.4"
  }
 },
 "nbformat": 4,
 "nbformat_minor": 2
}
