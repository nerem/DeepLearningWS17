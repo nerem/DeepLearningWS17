{
 "cells": [
  {
   "cell_type": "markdown",
   "metadata": {},
   "source": [
    "# Exercise 4.2"
   ]
  },
  {
   "cell_type": "markdown",
   "metadata": {},
   "source": [
    "### Import"
   ]
  },
  {
   "cell_type": "code",
   "execution_count": 2,
   "metadata": {},
   "outputs": [
    {
     "name": "stderr",
     "output_type": "stream",
     "text": [
      "C:\\ProgramData\\Anaconda3\\lib\\site-packages\\h5py\\__init__.py:34: FutureWarning: Conversion of the second argument of issubdtype from `float` to `np.floating` is deprecated. In future, it will be treated as `np.float64 == np.dtype(float).type`.\n",
      "  from ._conv import register_converters as _register_converters\n"
     ]
    }
   ],
   "source": [
    "import os\n",
    "import numpy as np\n",
    "import tensorflow as tf\n",
    "import matplotlib.pyplot as plt\n",
    "\n",
    "%matplotlib inline"
   ]
  },
  {
   "cell_type": "code",
   "execution_count": 2,
   "metadata": {
    "collapsed": true
   },
   "outputs": [],
   "source": [
    "def scale(x):\n",
    "    x /= 255\n",
    "    x -= np.mean(x, axis = (1, 2)).reshape(-1, 1, 1, 1)\n",
    "    x /= np.maximum(np.std(x, axis = (1, 2)).reshape(-1, 1, 1, 1), np.sqrt(x.shape[1] * x.shape[2] - 1))\n",
    "    return x"
   ]
  },
  {
   "cell_type": "code",
   "execution_count": 3,
   "metadata": {
    "collapsed": true
   },
   "outputs": [],
   "source": [
    "scale = lambda x: x"
   ]
  },
  {
   "cell_type": "markdown",
   "metadata": {},
   "source": [
    "### Load Data"
   ]
  },
  {
   "cell_type": "code",
   "execution_count": 4,
   "metadata": {
    "collapsed": true
   },
   "outputs": [],
   "source": [
    "path = os.getcwd()\n",
    "X_cyr = scale(np.load(path + \"/data/X_cyr.npy\").reshape((1, 28, 28, -1)).swapaxes(0, -1))\n",
    "X_lat = np.load(path + \"/data/X_lat.npy\").reshape((1, 28, 28, -1)).swapaxes(0, -1)\n",
    "labels_cyr = np.load(path + \"/data/labels_cyr.npy\")\n",
    "labels_lat = np.load(path + \"/data/labels_lat.npy\")\n",
    "\n",
    "labels = {i : np.mean(X_lat[labels_lat == i], axis = 0) for i in range(14)}\n",
    "Y_cyr = np.array([labels[i] for i in labels_cyr])"
   ]
  },
  {
   "cell_type": "markdown",
   "metadata": {},
   "source": [
    "### Model"
   ]
  },
  {
   "cell_type": "code",
   "execution_count": 5,
   "metadata": {},
   "outputs": [],
   "source": [
    "initializer = tf.keras.initializers.VarianceScaling\n",
    "activation = lambda x: tf.keras.layers.LeakyReLU()(x)\n",
    "\n",
    "inputs = tf.keras.layers.Input([28, 28, 1])\n",
    "x = tf.keras.layers.ZeroPadding2D(padding = 2)(inputs)\n",
    "x = tf.keras.layers.Conv2D(16, 7, strides = 1, padding = \"same\", kernel_initializer = initializer,\n",
    "                           activation = activation)(x)\n",
    "x = tf.keras.layers.Conv2D(32, 5, strides = 2, padding = \"same\", kernel_initializer = initializer,\n",
    "                           activation = activation)(x)\n",
    "x = tf.keras.layers.Conv2D(16, 3, strides = 1, padding = \"same\", kernel_initializer = initializer,\n",
    "                           activation = activation)(x)\n",
    "x = tf.keras.layers.Conv2D(8, 3, strides = 2, padding = \"same\", kernel_initializer = initializer,\n",
    "                           activation = activation)(x)\n",
    "x = tf.keras.layers.Conv2D(8, 3, strides = 1, padding = \"same\", kernel_initializer = initializer,\n",
    "                           activation = activation)(x)\n",
    "x = tf.keras.layers.Conv2D(4, 3, strides = 2, padding = \"same\", kernel_initializer = initializer,\n",
    "                           activation = activation)(x)\n",
    "\n",
    "x = tf.keras.layers.Conv2DTranspose(8, 3, strides = 2, padding = \"same\", kernel_initializer = initializer,\n",
    "                                    activation = activation)(x)\n",
    "x = tf.keras.layers.Conv2D(8, 3, strides = 1, padding = \"same\", kernel_initializer = initializer,\n",
    "                           activation = activation)(x)\n",
    "x = tf.keras.layers.Conv2DTranspose(16, 3, strides = 2, padding = \"same\", kernel_initializer = initializer,\n",
    "                                    activation = activation)(x)\n",
    "x = tf.keras.layers.Conv2D(16, 3, strides = 1, padding = \"same\", kernel_initializer = initializer,\n",
    "                           activation = activation)(x)\n",
    "x = tf.keras.layers.Conv2DTranspose(32, 5, strides = 2, padding = \"same\", kernel_initializer = initializer,\n",
    "                                    activation = activation)(x)\n",
    "x = tf.keras.layers.Conv2D(1, 7, strides = 1, padding = \"same\", kernel_initializer = initializer,\n",
    "                           activation = tf.keras.activations.sigmoid)(x)\n",
    "outputs = tf.keras.layers.Cropping2D(cropping = 2)(x)\n",
    "\n",
    "model = tf.keras.models.Model(inputs = inputs, outputs = outputs)"
   ]
  },
  {
   "cell_type": "code",
   "execution_count": 6,
   "metadata": {
    "collapsed": true
   },
   "outputs": [],
   "source": [
    "loss = tf.keras.losses.binary_crossentropy\n",
    "optimizer = tf.keras.optimizers.Adam()\n",
    "model.compile(optimizer, loss)"
   ]
  },
  {
   "cell_type": "code",
   "execution_count": 7,
   "metadata": {},
   "outputs": [
    {
     "name": "stdout",
     "output_type": "stream",
     "text": [
      "Train on 5218 samples, validate on 580 samples\n",
      "Epoch 1/40\n",
      "5218/5218 [==============================] - 4s - loss: 0.6564 - val_loss: 0.6026\n",
      "Epoch 2/40\n",
      "5218/5218 [==============================] - 1s - loss: 0.6249 - val_loss: 0.5961\n",
      "Epoch 3/40\n",
      "5218/5218 [==============================] - 1s - loss: 0.6236 - val_loss: 0.5927\n",
      "Epoch 4/40\n",
      "5218/5218 [==============================] - 1s - loss: 0.6219 - val_loss: 0.5923\n",
      "Epoch 5/40\n",
      "5218/5218 [==============================] - 1s - loss: 0.6193 - val_loss: 0.5924\n",
      "Epoch 6/40\n",
      "5218/5218 [==============================] - 1s - loss: 0.6150 - val_loss: 0.5945\n",
      "Epoch 7/40\n",
      "5218/5218 [==============================] - 1s - loss: 0.6073 - val_loss: 0.5967\n",
      "Epoch 8/40\n",
      "5218/5218 [==============================] - 1s - loss: 0.6001 - val_loss: 0.5929\n",
      "Epoch 9/40\n",
      "5218/5218 [==============================] - 0s - loss: 0.5949 - val_loss: 0.5912\n",
      "Epoch 10/40\n",
      "5218/5218 [==============================] - 1s - loss: 0.5910 - val_loss: 0.5924\n",
      "Epoch 11/40\n",
      "5218/5218 [==============================] - 0s - loss: 0.5869 - val_loss: 0.5977\n",
      "Epoch 12/40\n",
      "5218/5218 [==============================] - 1s - loss: 0.5837 - val_loss: 0.6006\n",
      "Epoch 13/40\n",
      "5218/5218 [==============================] - 1s - loss: 0.5792 - val_loss: 0.6077\n",
      "Epoch 14/40\n",
      "5218/5218 [==============================] - 1s - loss: 0.5777 - val_loss: 0.6029\n",
      "Epoch 15/40\n",
      "5218/5218 [==============================] - 1s - loss: 0.5747 - val_loss: 0.6128\n",
      "Epoch 16/40\n",
      "5218/5218 [==============================] - 1s - loss: 0.5713 - val_loss: 0.6192\n",
      "Epoch 17/40\n",
      "5218/5218 [==============================] - 1s - loss: 0.5702 - val_loss: 0.6263\n",
      "Epoch 18/40\n",
      "5218/5218 [==============================] - 1s - loss: 0.5678 - val_loss: 0.6200\n",
      "Epoch 19/40\n",
      "5218/5218 [==============================] - 1s - loss: 0.5645 - val_loss: 0.6202\n",
      "Epoch 20/40\n",
      "5218/5218 [==============================] - 1s - loss: 0.5628 - val_loss: 0.6220\n",
      "Epoch 21/40\n",
      "5218/5218 [==============================] - 1s - loss: 0.5639 - val_loss: 0.6206\n",
      "Epoch 22/40\n",
      "5218/5218 [==============================] - 1s - loss: 0.5608 - val_loss: 0.6237\n",
      "Epoch 23/40\n",
      "5218/5218 [==============================] - 1s - loss: 0.5596 - val_loss: 0.6349\n",
      "Epoch 24/40\n",
      "5218/5218 [==============================] - 1s - loss: 0.5591 - val_loss: 0.6272\n",
      "Epoch 25/40\n",
      "5218/5218 [==============================] - 1s - loss: 0.5586 - val_loss: 0.6219\n",
      "Epoch 26/40\n",
      "5218/5218 [==============================] - 1s - loss: 0.5562 - val_loss: 0.6303\n",
      "Epoch 27/40\n",
      "5218/5218 [==============================] - 1s - loss: 0.5559 - val_loss: 0.6478\n",
      "Epoch 28/40\n",
      "5218/5218 [==============================] - 1s - loss: 0.5559 - val_loss: 0.6328\n",
      "Epoch 29/40\n",
      "5218/5218 [==============================] - 1s - loss: 0.5534 - val_loss: 0.6455\n",
      "Epoch 30/40\n",
      "5218/5218 [==============================] - 1s - loss: 0.5532 - val_loss: 0.6322\n",
      "Epoch 31/40\n",
      "5218/5218 [==============================] - 1s - loss: 0.5528 - val_loss: 0.6326\n",
      "Epoch 32/40\n",
      "5218/5218 [==============================] - 0s - loss: 0.5522 - val_loss: 0.6488\n",
      "Epoch 33/40\n",
      "5218/5218 [==============================] - 1s - loss: 0.5516 - val_loss: 0.6328\n",
      "Epoch 34/40\n",
      "5218/5218 [==============================] - 1s - loss: 0.5511 - val_loss: 0.6382\n",
      "Epoch 35/40\n",
      "5218/5218 [==============================] - 1s - loss: 0.5507 - val_loss: 0.6262\n",
      "Epoch 36/40\n",
      "5218/5218 [==============================] - 1s - loss: 0.5502 - val_loss: 0.6282\n",
      "Epoch 37/40\n",
      "5218/5218 [==============================] - 1s - loss: 0.5492 - val_loss: 0.6394\n",
      "Epoch 38/40\n",
      "5218/5218 [==============================] - 1s - loss: 0.5485 - val_loss: 0.6383\n",
      "Epoch 39/40\n",
      "5218/5218 [==============================] - 1s - loss: 0.5475 - val_loss: 0.6351\n",
      "Epoch 40/40\n",
      "5218/5218 [==============================] - 1s - loss: 0.5468 - val_loss: 0.6208\n"
     ]
    },
    {
     "data": {
      "text/plain": [
       "<tensorflow.python.keras._impl.keras.callbacks.History at 0x1dc90e99fd0>"
      ]
     },
     "execution_count": 7,
     "metadata": {},
     "output_type": "execute_result"
    }
   ],
   "source": [
    "model.fit(X_cyr, Y_cyr, batch_size = 250, epochs = 40, validation_split = 0.1)"
   ]
  },
  {
   "cell_type": "code",
   "execution_count": 8,
   "metadata": {},
   "outputs": [],
   "source": [
    "def show(i):\n",
    "    plt.subplot(1,3,1)\n",
    "    plt.imshow(X_cyr[i,:,:,0], cmap = \"gray\")\n",
    "    plt.subplot(1,3,2)\n",
    "    plt.imshow(model.predict(X_cyr[[i]])[0,:,:,0], cmap = \"gray\")\n",
    "    plt.subplot(1,3,3)\n",
    "    plt.imshow(labels[labels_cyr[i]][:,:,0], cmap = \"gray\")"
   ]
  },
  {
   "cell_type": "code",
   "execution_count": 12,
   "metadata": {},
   "outputs": [
    {
     "data": {
      "image/png": "[encoded data removed]",
      "text/plain": [
       "<matplotlib.figure.Figure at 0x1dcddd2e7f0>"
      ]
     },
     "metadata": {},
     "output_type": "display_data"
    }
   ],
   "source": [
    "show(4000)"
   ]
  },
  {
   "cell_type": "code",
   "execution_count": null,
   "metadata": {
    "collapsed": true
   },
   "outputs": [],
   "source": []
  }
 ],
 "metadata": {
  "kernelspec": {
   "display_name": "Python 3",
   "language": "python",
   "name": "python3"
  },
  "language_info": {
   "codemirror_mode": {
    "name": "ipython",
    "version": 3
   },
   "file_extension": ".py",
   "mimetype": "text/x-python",
   "name": "python",
   "nbconvert_exporter": "python",
   "pygments_lexer": "ipython3",
   "version": "3.6.3"
  }
 },
 "nbformat": 4,
 "nbformat_minor": 2
}
