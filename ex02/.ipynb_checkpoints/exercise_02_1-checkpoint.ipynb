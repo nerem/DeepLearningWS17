{
 "cells": [
  {
   "cell_type": "code",
   "execution_count": 1,
   "metadata": {
    "collapsed": true
   },
   "outputs": [],
   "source": [
    "import numpy as np\n",
    "import matplotlib.pyplot as plt\n",
    "import tensorflow as tf\n",
    "import sklearn\n",
    "import h5py\n",
    "\n",
    "from IPython.display import clear_output\n",
    "from datetime import datetime\n",
    "from os import system, getcwd\n",
    "from time import sleep\n",
    "import threading\n",
    "import webbrowser\n",
    "\n",
    "%matplotlib inline\n",
    "plt.rcParams[\"figure.figsize\"] = (6, 4)\n",
    "\n",
    "python_path = \"C:\\\\ProgramData\\\\Anaconda3\\\\envs\\\\tensorflow\\\\python.exe\"\n",
    "python_path_felix = \"C:\\\\Users\\\\Felix\\\\AppData\\\\Local\\\\conda\\\\conda\\\\envs\\\\tensorflow\\\\python.exe\"\n",
    "tensorboard_path = \"C:\\\\ProgramData\\\\Anaconda3\\\\envs\\\\tensorflow\\\\Lib\\\\site-packages\\\\tensorboard\\\\main.py\"\n",
    "tensorboard_path_felix = \"C:\\\\Users\\\\Felix\\\\AppData\\\\Local\\\\conda\\\\conda\\\\envs\\\\tensorflow\\\\Lib\\\\site-packages\\\\tensorboard\\\\main.py\"\n",
    "log_dir = getcwd() + \"\\\\models\""
   ]
  },
  {
   "cell_type": "code",
   "execution_count": 2,
   "metadata": {
    "collapsed": true
   },
   "outputs": [],
   "source": [
    "def show_images():\n",
    "    for i in range(24):\n",
    "        plt.subplot(4,6,i+1)\n",
    "        plt.imshow(train_x[i,:,:], cmap = \"gray\")\n",
    "        plt.axis(\"off\")\n",
    "    plt.show()\n",
    "    return"
   ]
  },
  {
   "cell_type": "code",
   "execution_count": 3,
   "metadata": {
    "collapsed": true
   },
   "outputs": [],
   "source": [
    "def load_sample_dataset():\n",
    "    with  h5py.File(\"train_test_file_list.h5\", \"r\") as hf:\n",
    "        train_x = np.reshape(np.array(hf.get(\"train_x\")), (-1, 784))\n",
    "        train_y = np.eye(10)[np.reshape(np.array(hf.get(\"train_y\")), -1)]\n",
    "        test_x = np.reshape(np.array(hf.get(\"test_x\")), (-1, 784))\n",
    "        test_y = np.eye(10)[np.reshape(np.array(hf.get(\"test_y\")), -1)]\n",
    "    return train_x, train_y, test_x, test_y"
   ]
  },
  {
   "cell_type": "code",
   "execution_count": 4,
   "metadata": {
    "collapsed": true
   },
   "outputs": [],
   "source": [
    "train_x, train_y, test_x, test_y = load_sample_dataset()"
   ]
  },
  {
   "cell_type": "code",
   "execution_count": 5,
   "metadata": {
    "collapsed": true
   },
   "outputs": [],
   "source": [
    "for i in range(train_x.shape[0]):\n",
    "    train_x[i,:] -= np.mean(train_x[i,:])\n",
    "    train_x[i,:] /= np.std(train_x[i,:])"
   ]
  },
  {
   "cell_type": "code",
   "execution_count": 6,
   "metadata": {
    "collapsed": true
   },
   "outputs": [],
   "source": [
    "for i in range(test_x.shape[0]):\n",
    "    test_x[i,:] -= np.mean(test_x[i,:])\n",
    "    test_x[i,:] /= np.std(test_x[i,:])"
   ]
  },
  {
   "cell_type": "code",
   "execution_count": 7,
   "metadata": {
    "collapsed": true
   },
   "outputs": [],
   "source": [
    "sess = tf.Session()\n",
    "\n",
    "x = tf.placeholder(tf.float32, [None, 784])\n",
    "y = tf.placeholder(tf.float32, [None, 10])\n",
    "\n",
    "W = tf.Variable(tf.zeros([784, 10]))\n",
    "b = tf.Variable(tf.zeros([10]))\n",
    "\n",
    "feed_dict = {x : train_x, y : train_y}\n",
    "ds = tf.data.Dataset.from_tensor_slices((x, y))\n",
    "batched_ds = ds.batch(256)\n",
    "iterator = batched_ds.make_initializable_iterator()\n",
    "next_x, next_y = iterator.get_next()\n",
    "\n",
    "logits = next_x @ W + b\n",
    "model = tf.nn.softmax(logits)\n",
    "cross_entropy = tf.reduce_mean(tf.nn.softmax_cross_entropy_with_logits(labels = next_y, logits = logits))\n",
    "tf.summary.scalar(\"cross_entropy\", cross_entropy)\n",
    "\n",
    "global_step = tf.Variable(0, name = \"global_step\", trainable = False)\n",
    "step_size = tf.Variable(0.1)\n",
    "train = tf.train.AdamOptimizer(step_size).minimize(cross_entropy, global_step = global_step)\n",
    "accuracy = tf.reduce_mean(tf.cast(tf.equal(tf.argmax(model,1), tf.argmax(next_y,1)), tf.float32))\n",
    "tf.summary.scalar(\"accuracy\", accuracy)\n",
    "\n",
    "merged = tf.summary.merge_all()\n",
    "writer = tf.summary.FileWriter(log_dir, sess.graph)\n",
    "\n",
    "sess.run(tf.global_variables_initializer())"
   ]
  },
  {
   "cell_type": "code",
   "execution_count": 8,
   "metadata": {
    "collapsed": true
   },
   "outputs": [],
   "source": [
    "def iterate(N):\n",
    "    \n",
    "    for i in range(N):\n",
    "        sess.run(iterator.initializer, feed_dict)\n",
    "        while True:\n",
    "            try:\n",
    "                summary, _ = sess.run([merged, train])\n",
    "                writer.add_summary(summary, tf.train.global_step(sess, tf.train.get_global_step()))\n",
    "            except tf.errors.OutOfRangeError:\n",
    "                break\n",
    "        \n",
    "        if (i+1) % max(int(N/10), 1) == 0:\n",
    "            clear_output(wait = True)\n",
    "            print(\"{:3}%\".format(int((i+1)/N*100)))\n",
    "    \n",
    "    return"
   ]
  },
  {
   "cell_type": "code",
   "execution_count": 9,
   "metadata": {},
   "outputs": [
    {
     "name": "stdout",
     "output_type": "stream",
     "text": [
      "100%\n",
      "\n",
      "Elapsed time:  0:00:05.742617\n"
     ]
    }
   ],
   "source": [
    "sess.run(step_size.assign(0.05))\n",
    "start = datetime.now()\n",
    "\n",
    "iterate(20)\n",
    "\n",
    "print(\"\")\n",
    "print(\"Elapsed time: \", datetime.now() - start)"
   ]
  },
  {
   "cell_type": "code",
   "execution_count": 10,
   "metadata": {},
   "outputs": [
    {
     "data": {
      "text/plain": [
       "True"
      ]
     },
     "execution_count": 10,
     "metadata": {},
     "output_type": "execute_result"
    }
   ],
   "source": [
    "def launchTensorBoard():\n",
    "    system(\"{} {} --logdir={}\".format(python_path, tensorboard_path, log_dir))\n",
    "    return\n",
    "\n",
    "t = threading.Thread(target=launchTensorBoard, args=([]))\n",
    "t.start()\n",
    "sleep(0.5)\n",
    "webbrowser.open(\"http:\\\\localhost:6006\")"
   ]
  },
  {
   "cell_type": "code",
   "execution_count": 10,
   "metadata": {},
   "outputs": [
    {
     "data": {
      "text/plain": [
       "True"
      ]
     },
     "execution_count": 10,
     "metadata": {},
     "output_type": "execute_result"
    }
   ],
   "source": [
    "def launchTensorBoard_felix():\n",
    "    system(\"{} {} --logdir={}\".format(python_path_felix, tensorboard_path_felix, log_dir))\n",
    "    return\n",
    "\n",
    "t = threading.Thread(target=launchTensorBoard_felix, args=([]))\n",
    "t.start()\n",
    "sleep(0.5)\n",
    "webbrowser.open(\"http:\\\\localhost:6006\")"
   ]
  },
  {
   "cell_type": "code",
   "execution_count": 11,
   "metadata": {},
   "outputs": [
    {
     "name": "stdout",
     "output_type": "stream",
     "text": [
      "0.703125\n"
     ]
    }
   ],
   "source": [
    "sess.run(iterator.initializer, {x : test_x, y : test_y})\n",
    "print(sess.run(accuracy))"
   ]
  },
  {
   "cell_type": "code",
   "execution_count": 12,
   "metadata": {},
   "outputs": [
    {
     "ename": "IndexError",
     "evalue": "too many indices for array",
     "output_type": "error",
     "traceback": [
      "\u001b[1;31m---------------------------------------------------------------------------\u001b[0m",
      "\u001b[1;31mIndexError\u001b[0m                                Traceback (most recent call last)",
      "\u001b[1;32m<ipython-input-12-4c70125998ae>\u001b[0m in \u001b[0;36m<module>\u001b[1;34m()\u001b[0m\n\u001b[1;32m----> 1\u001b[1;33m \u001b[0mshow_images\u001b[0m\u001b[1;33m(\u001b[0m\u001b[1;33m)\u001b[0m\u001b[1;33m\u001b[0m\u001b[0m\n\u001b[0m",
      "\u001b[1;32m<ipython-input-2-d48bb9e5b3a3>\u001b[0m in \u001b[0;36mshow_images\u001b[1;34m()\u001b[0m\n\u001b[0;32m      2\u001b[0m     \u001b[1;32mfor\u001b[0m \u001b[0mi\u001b[0m \u001b[1;32min\u001b[0m \u001b[0mrange\u001b[0m\u001b[1;33m(\u001b[0m\u001b[1;36m24\u001b[0m\u001b[1;33m)\u001b[0m\u001b[1;33m:\u001b[0m\u001b[1;33m\u001b[0m\u001b[0m\n\u001b[0;32m      3\u001b[0m         \u001b[0mplt\u001b[0m\u001b[1;33m.\u001b[0m\u001b[0msubplot\u001b[0m\u001b[1;33m(\u001b[0m\u001b[1;36m4\u001b[0m\u001b[1;33m,\u001b[0m\u001b[1;36m6\u001b[0m\u001b[1;33m,\u001b[0m\u001b[0mi\u001b[0m\u001b[1;33m+\u001b[0m\u001b[1;36m1\u001b[0m\u001b[1;33m)\u001b[0m\u001b[1;33m\u001b[0m\u001b[0m\n\u001b[1;32m----> 4\u001b[1;33m         \u001b[0mplt\u001b[0m\u001b[1;33m.\u001b[0m\u001b[0mimshow\u001b[0m\u001b[1;33m(\u001b[0m\u001b[0mtrain_x\u001b[0m\u001b[1;33m[\u001b[0m\u001b[0mi\u001b[0m\u001b[1;33m,\u001b[0m\u001b[1;33m:\u001b[0m\u001b[1;33m,\u001b[0m\u001b[1;33m:\u001b[0m\u001b[1;33m]\u001b[0m\u001b[1;33m,\u001b[0m \u001b[0mcmap\u001b[0m \u001b[1;33m=\u001b[0m \u001b[1;34m\"gray\"\u001b[0m\u001b[1;33m)\u001b[0m\u001b[1;33m\u001b[0m\u001b[0m\n\u001b[0m\u001b[0;32m      5\u001b[0m         \u001b[0mplt\u001b[0m\u001b[1;33m.\u001b[0m\u001b[0maxis\u001b[0m\u001b[1;33m(\u001b[0m\u001b[1;34m\"off\"\u001b[0m\u001b[1;33m)\u001b[0m\u001b[1;33m\u001b[0m\u001b[0m\n\u001b[0;32m      6\u001b[0m     \u001b[0mplt\u001b[0m\u001b[1;33m.\u001b[0m\u001b[0mshow\u001b[0m\u001b[1;33m(\u001b[0m\u001b[1;33m)\u001b[0m\u001b[1;33m\u001b[0m\u001b[0m\n",
      "\u001b[1;31mIndexError\u001b[0m: too many indices for array"
     ]
    },
    {
     "data": {
      "image/png": "[encoded data removed]",
      "text/plain": [
       "<matplotlib.figure.Figure at 0x1dd411a7278>"
      ]
     },
     "metadata": {},
     "output_type": "display_data"
    }
   ],
   "source": [
    "show_images()"
   ]
  },
  {
   "cell_type": "code",
   "execution_count": 7,
   "metadata": {
    "collapsed": true
   },
   "outputs": [],
   "source": [
    "train_x = np.reshape(train_x, (-1,28,28))"
   ]
  },
  {
   "cell_type": "code",
   "execution_count": 8,
   "metadata": {},
   "outputs": [
    {
     "data": {
      "image/png": "[encoded data removed]",
      "text/plain": [
       "<matplotlib.figure.Figure at 0x1bb127276a0>"
      ]
     },
     "metadata": {},
     "output_type": "display_data"
    }
   ],
   "source": [
    "show_images()"
   ]
  },
  {
   "cell_type": "code",
   "execution_count": null,
   "metadata": {
    "collapsed": true
   },
   "outputs": [],
   "source": []
  }
 ],
 "metadata": {
  "kernelspec": {
   "display_name": "Python3 (Tensorflow)",
   "language": "python",
   "name": "tensorflow"
  },
  "language_info": {
   "codemirror_mode": {
    "name": "ipython",
    "version": 3
   },
   "file_extension": ".py",
   "mimetype": "text/x-python",
   "name": "python",
   "nbconvert_exporter": "python",
   "pygments_lexer": "ipython3",
   "version": "3.6.3"
  }
 },
 "nbformat": 4,
 "nbformat_minor": 2
}
