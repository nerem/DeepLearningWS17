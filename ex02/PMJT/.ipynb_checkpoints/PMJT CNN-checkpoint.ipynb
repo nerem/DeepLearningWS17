{
 "cells": [
  {
   "cell_type": "code",
   "execution_count": 1,
   "metadata": {
    "collapsed": true
   },
   "outputs": [],
   "source": [
    "import numpy as np\n",
    "import tensorflow as tf\n",
    "import matplotlib.pyplot as plt\n",
    "\n",
    "from IPython.display import clear_output\n",
    "from datetime import datetime\n",
    "\n",
    "import tensorboard_utility as tb_utility\n",
    "import pmjt_data\n",
    "import pmjt_model\n",
    "\n",
    "%matplotlib inline"
   ]
  },
  {
   "cell_type": "code",
   "execution_count": 2,
   "metadata": {
    "collapsed": true
   },
   "outputs": [],
   "source": [
    "batch_size = 463\n",
    "scaled = True\n",
    "log_dir = tb_utility.get_log_dir()\n",
    "\n",
    "train_input_fn = pmjt_data.get_train_input_fn(batch_size, scaled = scaled)\n",
    "test_input_fn = pmjt_data.get_test_input_fn(scaled = scaled)"
   ]
  },
  {
   "cell_type": "code",
   "execution_count": 3,
   "metadata": {},
   "outputs": [],
   "source": [
    "model_fn = pmjt_model.model_fn\n",
    "model_params = {\"learning_rate\" : 0.0032}\n",
    "config = tf.estimator.RunConfig(model_dir = log_dir, save_summary_steps = 1, log_step_count_steps = 100)\n",
    "estimator = tf.estimator.Estimator(model_fn = model_fn, params = model_params, config = config)\n",
    "\n",
    "clear_output()"
   ]
  },
  {
   "cell_type": "code",
   "execution_count": 4,
   "metadata": {},
   "outputs": [
    {
     "name": "stdout",
     "output_type": "stream",
     "text": [
      "INFO:tensorflow:Starting evaluation at 2017-11-26-16:06:31\n",
      "INFO:tensorflow:Restoring parameters from C:\\Users\\Karsten\\Downloads\\IPython\\TensorFlow\\PMJT\\logs\\log4\\model.ckpt-1376\n",
      "INFO:tensorflow:Finished evaluation at 2017-11-26-16:06:32\n",
      "INFO:tensorflow:Saving dict for global step 1376: accuracy = 0.94963, global_step = 1376, loss = 0.28406\n"
     ]
    }
   ],
   "source": [
    "for _ in range(32):\n",
    "    estimator.train(input_fn = train_input_fn, steps = 43);\n",
    "    clear_output()\n",
    "    estimator.evaluate(input_fn = test_input_fn)"
   ]
  },
  {
   "cell_type": "code",
   "execution_count": 5,
   "metadata": {
    "collapsed": true
   },
   "outputs": [],
   "source": [
    "tb_utility.launch_tb()"
   ]
  },
  {
   "cell_type": "code",
   "execution_count": null,
   "metadata": {
    "collapsed": true
   },
   "outputs": [],
   "source": []
  }
 ],
 "metadata": {
  "kernelspec": {
   "display_name": "Python (TensorFlow)",
   "language": "python",
   "name": "tensorflow"
  },
  "language_info": {
   "codemirror_mode": {
    "name": "ipython",
    "version": 3
   },
   "file_extension": ".py",
   "mimetype": "text/x-python",
   "name": "python",
   "nbconvert_exporter": "python",
   "pygments_lexer": "ipython3",
   "version": "3.6.3"
  }
 },
 "nbformat": 4,
 "nbformat_minor": 2
}
